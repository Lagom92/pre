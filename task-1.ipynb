{
  "nbformat": 4,
  "nbformat_minor": 0,
  "metadata": {
    "colab": {
      "name": "task-1.ipynb",
      "provenance": [],
      "collapsed_sections": [],
      "authorship_tag": "ABX9TyPzS4mtNkkp4HTKGgkDDnGs",
      "include_colab_link": true
    },
    "kernelspec": {
      "name": "python3",
      "display_name": "Python 3"
    }
  },
  "cells": [
    {
      "cell_type": "markdown",
      "metadata": {
        "id": "view-in-github",
        "colab_type": "text"
      },
      "source": [
        "<a href=\"https://colab.research.google.com/github/Lagom92/pre/blob/master/task-1.ipynb\" target=\"_parent\"><img src=\"https://colab.research.google.com/assets/colab-badge.svg\" alt=\"Open In Colab\"/></a>"
      ]
    },
    {
      "cell_type": "markdown",
      "metadata": {
        "id": "a_e4jRisbtFy",
        "colab_type": "text"
      },
      "source": [
        "# 1주차 과제"
      ]
    },
    {
      "cell_type": "markdown",
      "metadata": {
        "id": "8BCBIHGjb7Gv",
        "colab_type": "text"
      },
      "source": [
        "## 4가지 분야의 제품 또는 서비스에 적용된 인공지능 기술에 대한 분석"
      ]
    },
    {
      "cell_type": "markdown",
      "metadata": {
        "id": "PZDaNDVzcqb0",
        "colab_type": "text"
      },
      "source": [
        "<br/>\n",
        "\n",
        "### 1. 언어"
      ]
    },
    {
      "cell_type": "markdown",
      "metadata": {
        "id": "PpPpzGXmcuQ3",
        "colab_type": "text"
      },
      "source": [
        "회사명: (주)엠비아이솔루션\n",
        "\n",
        "서비스명: 해피톡\n",
        "\n",
        "- 특징\n",
        "\n",
        "  - 익순한 메신저(카카오톡, 네이버톡 웹채팅 등)로 간단하게 문의를 할 수 있다.\n",
        "\n",
        "  - 동시에 여러고객을 응대 할 수 있으므로 업무 효율이 높아진다.\n",
        "\n",
        "  - 상담과 관련된 여러 데이터들을 수집 및 분석 할 수 있다.\n",
        "\n",
        "  - 필요에 따라서 상담원과의 연결을 통해 디테일한 상담이 가능해 진다."
      ]
    },
    {
      "cell_type": "markdown",
      "metadata": {
        "id": "FR8qbw-jFPGI",
        "colab_type": "text"
      },
      "source": [
        "#### 챗봇이란?\n",
        "\n",
        "- 정의\n",
        "\n",
        "  - 메신저에서 유저와 소통하는 봇\n",
        "\n",
        "  - 단순지 정해진 규칙에 맞춰서 입력한 메세지에 맞는 메세지를 출력하는 단순한 챗봇에서부터 상대방의 발화를 분석하여 사람과 대화하는 듯한 챗봇까지 다양한 챗봇들이 있다.\n",
        "\n",
        "- 사용처\n",
        "\n",
        "  - 쇼핑몰, 은행, 보험회사 등 24시간 상담원 대용으로 사용되거나 단순한 오락용 등 다양한 부분에서 사용될 수 있다."
      ]
    },
    {
      "cell_type": "markdown",
      "metadata": {
        "id": "OqzD40coFbmC",
        "colab_type": "text"
      },
      "source": [
        "해피톡 이외에도 다양한 챗봇들이 사용되어  지고 있으며 이러한 챗봇을 쉽고 빠르게 구현할 수 있도록 돕는 서비스들이 많이 생겨나고 있다.\n",
        "\n",
        "  ex) CLOSER, Google의 Dialogflow, danbee.AI, 꿈많은청년들 등"
      ]
    },
    {
      "cell_type": "markdown",
      "metadata": {
        "id": "CdZYjv5UFfW6",
        "colab_type": "text"
      },
      "source": [
        "**관련 Keywords**\n",
        "\n",
        "NLP"
      ]
    },
    {
      "cell_type": "markdown",
      "metadata": {
        "id": "GLoHKkvudZSf",
        "colab_type": "text"
      },
      "source": [
        "<br/>\n",
        "\n",
        "### 2. 음성"
      ]
    },
    {
      "cell_type": "markdown",
      "metadata": {
        "id": "m3sivhR4dZl7",
        "colab_type": "text"
      },
      "source": [
        "회사명: 뷰노 Vuno\n",
        "\n",
        "서비스명: DeepASR\n",
        "\n",
        "- 다양한 의료 문서 작성 과정에 자동음성인식(Automatic Speech Recognition) 기술을 도입해 의료진의 음성을 통해 실시간으로 문서 작성과 수정을 가능하게 하는 인공지능 기반 의료 음성 인식 소프트웨어\n",
        "\n",
        "- 수 만건의 국내 의료 영상 판독 데이터를 학습해 다양한 검사기법에 혼재돼 사용되는 국영문 의학용어를 빠르게 처리\n",
        "\n",
        "-  환자의 기본정보, 생체 신호 등 다양한 항목을 음성인식으로 입력해 맞춤형 서비스 제공이 가능함"
      ]
    },
    {
      "cell_type": "markdown",
      "metadata": {
        "id": "OMUMHay-F2ja",
        "colab_type": "text"
      },
      "source": [
        "**관련 Keywords**\n",
        "\n",
        "딥러닝\n",
        "\n",
        "데이터 증강 기법: 인공지능이 보유한 데이터를 변환해 신규 데이터로서 학습하게 하는 기법"
      ]
    },
    {
      "cell_type": "markdown",
      "metadata": {
        "id": "w4NAO0-UdZ2B",
        "colab_type": "text"
      },
      "source": [
        "<br/>\n",
        "\n",
        "### 3. 이미지"
      ]
    },
    {
      "cell_type": "markdown",
      "metadata": {
        "id": "sC_4siWpdfMZ",
        "colab_type": "text"
      },
      "source": [
        "회사명: 루닛 Lunit\n",
        "\n",
        "서비스명\n",
        "\n",
        "1. Lunit INSIGHT CXR(흉부 X선 영상 분석 AI)\n",
        "\n",
        "   - 딥러닝 기술을 이용하여 흉부 x-선 영상에서 폐 결절로 의심되는 이상부위를 검출하여 의사의 판독을 보조하는 소프트웨어\n",
        "\n",
        "\n",
        "2. Lunit INSIGHT MMG(유방촬영술 영상 분석 AI)\n",
        "\n",
        "   - 딥러닝 기술을 이용하여 유방촬영술 영상에서 유방암으로 의심되는 이상부위를 검출하여 의사의 판독을 보조하는 소프트웨어\n",
        "\n",
        "\n",
        "3. Lunit SCOPE(조직 슬라이드 영상 분석 AI)\n",
        "   - 딥러닝 기술을 이용하여 H&E 슬라이드 이미지 상의 암의 기질, 상피 조직, 림프구 등을 발견할 수 있다.\n",
        "\n",
        "   - 항암 치료 반응을 예측하는 인공지능 바이오마커"
      ]
    },
    {
      "cell_type": "markdown",
      "metadata": {
        "id": "chZS3US6GA27",
        "colab_type": "text"
      },
      "source": [
        "**관련 Keywords**\n",
        "\n",
        "딥러닝"
      ]
    },
    {
      "cell_type": "markdown",
      "metadata": {
        "id": "cdVgRGlEdfjI",
        "colab_type": "text"
      },
      "source": [
        "<br/>\n",
        "\n",
        "### 4. 자율주행"
      ]
    },
    {
      "cell_type": "markdown",
      "metadata": {
        "id": "ZZxxQzWtdfI1",
        "colab_type": "text"
      },
      "source": [
        "회사명: 언맨드솔루션\n",
        "\n",
        "서비스: WITH:US (위더스)\n",
        "\n",
        "- 순수 국내기술로 개발한 완전 자율주행셔틀\n",
        "\n",
        "- 정밀지도, LiDAR, 카메라, 그리고 5G 교통정보 수신을 통해 도로 및 주변환경을 실시간으로 인식하고 판단하여 주행"
      ]
    },
    {
      "cell_type": "markdown",
      "metadata": {
        "id": "LXU7DcwjGP-Q",
        "colab_type": "text"
      },
      "source": [
        "#### 자율주행 자동차 ?\n",
        "\n",
        "- 자율주행 자동차가 스스로 주행하려면 인지∙판단∙제어 등 세 가지 기능이 반드시 필요하다. \n",
        "\n",
        "- 인지 기능은 카메라∙레이더∙라이다(LiDAR) 등 차체 내 센서 정보를 처리해 주변 환경 정보를 알아차리는 것이다.\n",
        "\n",
        "- 판단 기능은 인지된 정보를 이용해 향후 벌어질 일을 예측한 후 가장 안전하고 빠른 차량 궤적을 생성하는 것이다.\n",
        "\n",
        "- 제어 기능은 최종적으로 생성된 차량 궤적을 부드럽고 정확하게 따라갈 수 있도록 운전대∙액셀러레이터∙브레이크를 조작하는 것이다 ."
      ]
    },
    {
      "cell_type": "markdown",
      "metadata": {
        "id": "8Oz7sRn1GjiO",
        "colab_type": "text"
      },
      "source": [
        "**관련 Keywords**\n",
        "\n",
        "딥러닝"
      ]
    },
    {
      "cell_type": "markdown",
      "metadata": {
        "id": "mVBbWoGadwO7",
        "colab_type": "text"
      },
      "source": [
        "<br/>\n",
        "<br/>\n",
        "\n",
        "-------------------\n",
        "\n",
        "### Reference\n",
        "\n",
        "- [해피톡 홈페이지](https://happytalk.io/chatbot)\n",
        "\n",
        "- [블로그_챗봇이란?](https://brunch.co.kr/@gentlepie/2)\n",
        "\n",
        "- [Vuno 홈페이지](https://www.vuno.co/static/pdf/DeepASR.pdf) \n",
        "\n",
        "- [Lunit 홈페이지](https://www.lunit.io/ko/product/insight_cxr2/)\n",
        "\n",
        "-  [언맨솔루션 홈페이지](http://www.unmansol.com/sub02.html )"
      ]
    }
  ]
}